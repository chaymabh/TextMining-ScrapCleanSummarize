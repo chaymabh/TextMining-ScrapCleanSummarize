{
 "cells": [
  {
   "cell_type": "markdown",
   "id": "cd94aa7d",
   "metadata": {},
   "source": [
    "# Scrapping and summarizing my university's website"
   ]
  },
  {
   "cell_type": "markdown",
   "id": "74b950f1",
   "metadata": {},
   "source": [
    "This code is a full webscrapping process from accessing a website to transforming its data to a summarized text :\n",
    "\n",
    "1. requests\n",
    "2. BeautifulSoup\n",
    "3. nltk\n",
    "\n",
    "We will work on my universty's \"ISTIC\" website to scrap some data automatically First install missing libraries :"
   ]
  },
  {
   "cell_type": "code",
   "execution_count": 8,
   "id": "b2be0840",
   "metadata": {},
   "outputs": [
    {
     "name": "stderr",
     "output_type": "stream",
     "text": [
      "[nltk_data] Downloading package stopwords to\n",
      "[nltk_data]     C:\\Users\\Dell\\AppData\\Roaming\\nltk_data...\n",
      "[nltk_data]   Unzipping corpora\\stopwords.zip.\n"
     ]
    },
    {
     "data": {
      "text/plain": [
       "True"
      ]
     },
     "execution_count": 8,
     "metadata": {},
     "output_type": "execute_result"
    }
   ],
   "source": [
    "!pip install nltk\n",
    "import nltk\n",
    "nltk.download('punkt')\n",
    "nltk.download('stopwords')"
   ]
  },
  {
   "cell_type": "code",
   "execution_count": null,
   "id": "cf738a12",
   "metadata": {},
   "outputs": [],
   "source": [
    "import bs4 as bs\n",
    "import urllib.request\n",
    "import re\n",
    "import nltk\n",
    "from nltk.corpus import stopwords\n",
    "from nltk.tokenize import word_tokenize, sent_tokenize"
   ]
  },
  {
   "cell_type": "markdown",
   "id": "ce252896",
   "metadata": {},
   "source": [
    "## Go to website and parse the page with BeautifulSoup"
   ]
  },
  {
   "cell_type": "code",
   "execution_count": 17,
   "id": "ed6c84a8",
   "metadata": {},
   "outputs": [],
   "source": [
    "# Get data to summarize\n",
    "scraped_data = urllib.request.urlopen('http://www.istic.rnu.tn/fr/presentation/presentation.html')\n",
    "data = scraped_data.read()\n",
    "\n",
    "parsed_data = bs.BeautifulSoup(data,'lxml')\n",
    "\n",
    "paragraphs = parsed_data.find_all('p')\n",
    "\n",
    "# Input text - to summarize\n",
    "data_text = \"\"\n",
    "\n",
    "for p in paragraphs:\n",
    "    data_text += p.text\n"
   ]
  },
  {
   "cell_type": "markdown",
   "id": "e5f8ea41",
   "metadata": {},
   "source": [
    "## Clean the paragraphs"
   ]
  },
  {
   "cell_type": "code",
   "execution_count": 18,
   "id": "ffb62dba",
   "metadata": {},
   "outputs": [],
   "source": [
    "# Removing numbers \n",
    "data_text = re.sub(r'\\[[0-9]*\\]', ' ', data_text)\n",
    "data_text = re.sub(r'\\s+', ' ', data_text)"
   ]
  },
  {
   "cell_type": "code",
   "execution_count": 19,
   "id": "c8f1262c",
   "metadata": {},
   "outputs": [],
   "source": [
    "# Removing special characters and digits\n",
    "formatted_data_text = re.sub('[^a-zA-Z]', ' ', data_text )\n",
    "formatted_data_text = re.sub(r'\\s+', ' ', formatted_data_text)"
   ]
  },
  {
   "cell_type": "code",
   "execution_count": 20,
   "id": "be955046",
   "metadata": {},
   "outputs": [],
   "source": [
    "sentence_list = nltk.sent_tokenize(data_text)"
   ]
  },
  {
   "cell_type": "markdown",
   "id": "693692ab",
   "metadata": {},
   "source": [
    "## Remove stop words "
   ]
  },
  {
   "cell_type": "code",
   "execution_count": 21,
   "id": "81bfa793",
   "metadata": {},
   "outputs": [],
   "source": [
    "stopwords = nltk.corpus.stopwords.words('french')\n",
    "\n",
    "word_frequencies = {}\n",
    "for word in nltk.word_tokenize(formatted_data_text):\n",
    "    if word not in stopwords:\n",
    "        if word not in word_frequencies.keys():\n",
    "            word_frequencies[word] = 1\n",
    "        else:\n",
    "            word_frequencies[word] += 1"
   ]
  },
  {
   "cell_type": "markdown",
   "id": "a4d3356b",
   "metadata": {},
   "source": [
    "## Create frequency table of words"
   ]
  },
  {
   "cell_type": "code",
   "execution_count": 22,
   "id": "fa88876d",
   "metadata": {},
   "outputs": [],
   "source": [
    "maximum_frequncy = max(word_frequencies.values())\n",
    "\n",
    "for word in word_frequencies.keys():\n",
    "    word_frequencies[word] = (word_frequencies[word]/maximum_frequncy)"
   ]
  },
  {
   "cell_type": "markdown",
   "id": "0fb37343",
   "metadata": {},
   "source": [
    "## Assign score to each sentence depending on the words it contains and the frequency table"
   ]
  },
  {
   "cell_type": "code",
   "execution_count": 23,
   "id": "d23c32e1",
   "metadata": {},
   "outputs": [],
   "source": [
    "sentence_scores = {}\n",
    "for sent in sentence_list:\n",
    "    for word in nltk.word_tokenize(sent.lower()):\n",
    "        if word in word_frequencies.keys():\n",
    "            if len(sent.split(' ')) < 30:\n",
    "                if sent not in sentence_scores.keys():\n",
    "                    sentence_scores[sent] = word_frequencies[word]\n",
    "                else:\n",
    "                    sentence_scores[sent] += word_frequencies[word]"
   ]
  },
  {
   "cell_type": "markdown",
   "id": "cf1d987b",
   "metadata": {},
   "source": [
    "## Build summary"
   ]
  },
  {
   "cell_type": "code",
   "execution_count": 24,
   "id": "7e203bab",
   "metadata": {},
   "outputs": [
    {
     "name": "stdout",
     "output_type": "stream",
     "text": [
      "L’ISTIC est une institution universitaire publique créée par les décrets n° 2011-1010 du 24 août 2011 et n° 1645 de 2012, sous tutelle de l’Université de Carthage.\n"
     ]
    }
   ],
   "source": [
    "import heapq\n",
    "summary_sentences = heapq.nlargest(7, sentence_scores, key=sentence_scores.get)\n",
    "\n",
    "summary = ' '.join(summary_sentences)\n",
    "print(summary)"
   ]
  },
  {
   "cell_type": "markdown",
   "id": "e3e66b3a",
   "metadata": {},
   "source": [
    "## Ref : https://dev.to/davidisrawi/build-a-quick-summarizer-with-python-and-nltk"
   ]
  }
 ],
 "metadata": {
  "kernelspec": {
   "display_name": "Python 3 (ipykernel)",
   "language": "python",
   "name": "python3"
  },
  "language_info": {
   "codemirror_mode": {
    "name": "ipython",
    "version": 3
   },
   "file_extension": ".py",
   "mimetype": "text/x-python",
   "name": "python",
   "nbconvert_exporter": "python",
   "pygments_lexer": "ipython3",
   "version": "3.9.7"
  }
 },
 "nbformat": 4,
 "nbformat_minor": 5
}
