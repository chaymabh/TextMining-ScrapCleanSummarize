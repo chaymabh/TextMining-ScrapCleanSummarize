{
 "cells": [
  {
   "cell_type": "markdown",
   "metadata": {},
   "source": [
    "# Web Scraping Instagram "
   ]
  },
  {
   "cell_type": "markdown",
   "metadata": {},
   "source": [
    "## Install selenium\n",
    "https://anaconda.org/conda-forge/selenium\n",
    "\n",
    "## Install Wget"
   ]
  },
  {
   "cell_type": "code",
   "execution_count": 2,
   "metadata": {},
   "outputs": [
    {
     "name": "stdout",
     "output_type": "stream",
     "text": [
      "Requirement already satisfied: wget in c:\\users\\dell\\condaa\\anaconda3\\lib\\site-packages (3.2)\n",
      "Note: you may need to restart the kernel to use updated packages.\n"
     ]
    }
   ],
   "source": [
    "pip install wget"
   ]
  },
  {
   "cell_type": "code",
   "execution_count": 3,
   "metadata": {},
   "outputs": [],
   "source": [
    "from selenium import webdriver\n",
    "from selenium.webdriver.common.keys import Keys\n",
    "from selenium.webdriver.support import expected_conditions as EC\n",
    "from selenium.webdriver.common.by import By\n",
    "from selenium.webdriver.support.wait import WebDriverWait\n",
    "import time"
   ]
  },
  {
   "cell_type": "markdown",
   "metadata": {},
   "source": [
    "## Download ChromeDriver\n",
    "\n",
    "https://chromedriver.chromium.org/\n",
    "\n"
   ]
  },
  {
   "cell_type": "code",
   "execution_count": 4,
   "metadata": {},
   "outputs": [],
   "source": [
    "# Path to chromedriver.exe \n",
    "driver = webdriver.Chrome(\"C:/Users/Dell/Downloads/chromedriver_win32 (1)/chromedriver.exe\")\n",
    "\n",
    "# Open the webpage\n",
    "driver.get(\"http://www.instagram.com\")\n",
    "\n",
    "# Get username\n",
    "username = WebDriverWait(driver, 10).until(EC.element_to_be_clickable((By.CSS_SELECTOR, \"input[name='username']\")))\n",
    "password = WebDriverWait(driver, 10).until(EC.element_to_be_clickable((By.CSS_SELECTOR, \"input[name='password']\")))\n",
    "\n",
    "# Enter username and password\n",
    "username.clear()\n",
    "username.send_keys(\"Username\")\n",
    "password.clear()\n",
    "password.send_keys(\"password\")\n",
    "\n",
    "# Get login button and click it\n",
    "button = WebDriverWait(driver, 2).until(EC.element_to_be_clickable((By.CSS_SELECTOR, \"button[type='submit']\"))).click()\n"
   ]
  },
  {
   "cell_type": "markdown",
   "metadata": {},
   "source": [
    "## Search for hashtag"
   ]
  },
  {
   "cell_type": "code",
   "execution_count": 14,
   "metadata": {},
   "outputs": [],
   "source": [
    "# Searchbox input field\n",
    "searchbox = WebDriverWait(driver,10).until(EC.element_to_be_clickable((By.CSS_SELECTOR,'input[placeholder=\"Search\"]')))\n",
    "searchbox.clear()\n",
    "# Dearch for a hashtag\n",
    "keyword = \"Inter Keyword here\"\n",
    "searchbox.send_keys(keyword)\n",
    " \n",
    "# Double entre\n",
    "time.sleep(5) # Wait for 5 sec\n",
    "Link= WebDriverWait(driver, 10).until(EC.element_to_be_clickable((By.XPATH, \"//a[contains(@href, '/\" + keyword[1:] + \"/')]\")))\n",
    "Link.click()\n"
   ]
  },
  {
   "cell_type": "markdown",
   "metadata": {},
   "source": [
    "## Scroll Down\n"
   ]
  },
  {
   "cell_type": "code",
   "execution_count": 8,
   "metadata": {},
   "outputs": [],
   "source": [
    "# Scroll down 2 times\n",
    "n_scrolls = 2\n",
    "for j in range(0, n_scrolls):\n",
    "    driver.execute_script(\"window.scrollTo(0, document.body.scrollHeight);\")\n",
    "    time.sleep(5)"
   ]
  },
  {
   "cell_type": "code",
   "execution_count": 9,
   "metadata": {},
   "outputs": [
    {
     "name": "stdout",
     "output_type": "stream",
     "text": [
      "Found 51 links to images\n"
     ]
    },
    {
     "data": {
      "text/plain": [
       "['https://www.instagram.com/p/B_RWB8DjrI2/',\n",
       " 'https://www.instagram.com/p/CZkFV1osY9K/',\n",
       " 'https://www.instagram.com/p/CWZuWRDI-mz/',\n",
       " 'https://www.instagram.com/p/B2RclSkAmic/',\n",
       " 'https://www.instagram.com/p/CXFrk0DDolr/']"
      ]
     },
     "execution_count": 9,
     "metadata": {},
     "output_type": "execute_result"
    }
   ],
   "source": [
    "# Get all the link elements on the page\n",
    "anchors = driver.find_elements_by_tag_name('a')\n",
    "anchors = [a.get_attribute('href') for a in anchors]\n",
    "# Take image links only\n",
    "anchors = [a for a in anchors if str(a).startswith(\"https://www.instagram.com/p/\")]\n",
    "\n",
    "print('Found ' + str(len(anchors)) + ' links to images')\n",
    "anchors[:5]"
   ]
  },
  {
   "cell_type": "code",
   "execution_count": 10,
   "metadata": {},
   "outputs": [
    {
     "data": {
      "text/plain": [
       "['https://instagram.ftun9-1.fna.fbcdn.net/v/t51.2885-15/94487672_235915624315622_7344451972061384593_n.jpg?stp=dst-jpg_e35&_nc_ht=instagram.ftun9-1.fna.fbcdn.net&_nc_cat=102&_nc_ohc=B-I4nnoIlpAAX9xGM9t&edm=AABBvjUBAAAA&ccb=7-4&ig_cache_key=MjI5MjcxMDU3MjMzMDc0NTczMA%3D%3D.2-ccb7-4&oh=00_AT-NB8lqZIGykukEHbaGQwJhnsQhhFY30ZpMf26uQuZkRw&oe=626165F7&_nc_sid=83d603',\n",
       " 'https://instagram.ftun9-1.fna.fbcdn.net/v/t51.2885-19/269010684_1549586235420095_5004735611680236383_n.jpg?stp=dst-jpg_s150x150&_nc_ht=instagram.ftun9-1.fna.fbcdn.net&_nc_cat=111&_nc_ohc=3iMyZoo2OYcAX-htTmM&edm=AABBvjUBAAAA&ccb=7-4&oh=00_AT9FWApClEaVlyIwbehVQnOMVNIhTWUSui-RBPl35N677w&oe=6262896C&_nc_sid=83d603',\n",
       " 'https://instagram.ftun9-1.fna.fbcdn.net/v/t51.2885-19/271607943_3131375267109648_4678630618450903789_n.jpg?stp=dst-jpg_s150x150&_nc_ht=instagram.ftun9-1.fna.fbcdn.net&_nc_cat=100&_nc_ohc=ySpjLHyMAsQAX-wQzjC&edm=AABBvjUBAAAA&ccb=7-4&oh=00_AT8Sn82SirHr2M3bGQMTC8_lqc9Gnez6qhRJ6b0CsToCgg&oe=6261B18B&_nc_sid=83d603',\n",
       " 'https://instagram.ftun9-1.fna.fbcdn.net/v/t51.2885-15/69416511_2388764928113736_9092189691298454044_n.jpg?stp=dst-jpg_e35&_nc_ht=instagram.ftun9-1.fna.fbcdn.net&_nc_cat=100&_nc_ohc=RIw6TRqcoJwAX8-ek31&edm=AABBvjUBAAAA&ccb=7-4&ig_cache_key=MjEzMDYwOTgwMjk3MDMyMTIwNw%3D%3D.2-ccb7-4&oh=00_AT8Lc53oH6bj-XGTSRRkLbnoncYOjhhfgl3C5ZD13XVabw&oe=6260B843&_nc_sid=83d603',\n",
       " 'https://instagram.ftun9-1.fna.fbcdn.net/v/t51.2885-19/271607943_3131375267109648_4678630618450903789_n.jpg?stp=dst-jpg_s150x150&_nc_ht=instagram.ftun9-1.fna.fbcdn.net&_nc_cat=100&_nc_ohc=ySpjLHyMAsQAX-wQzjC&edm=AId3EpQBAAAA&ccb=7-4&oh=00_AT9SZYDWa7pG1bEpv1u4sXJeFe2ghBsQcNzsdXAyGDmPRA&oe=6261B18B&_nc_sid=705020']"
      ]
     },
     "execution_count": 10,
     "metadata": {},
     "output_type": "execute_result"
    }
   ],
   "source": [
    "images = []\n",
    "\n",
    "# Follow each image link and extract only image at index=1\n",
    "for a in anchors:\n",
    "    driver.get(a)\n",
    "    time.sleep(5)\n",
    "    img = driver.find_elements_by_tag_name('img')\n",
    "    img = [i.get_attribute('src') for i in img]\n",
    "    images.append(img[1])\n",
    "    \n",
    "images[:5]    "
   ]
  },
  {
   "cell_type": "markdown",
   "metadata": {},
   "source": [
    "## Save images to computer"
   ]
  },
  {
   "cell_type": "code",
   "execution_count": 12,
   "metadata": {},
   "outputs": [
    {
     "data": {
      "text/plain": [
       "'C:\\\\Users\\\\Dell\\\\ISTICs'"
      ]
     },
     "execution_count": 12,
     "metadata": {},
     "output_type": "execute_result"
    }
   ],
   "source": [
    "import os\n",
    "import wget\n",
    "\n",
    "path = os.getcwd()\n",
    "path = os.path.join(path, keyword[1:] + \"s\")\n",
    "\n",
    "# Create the folder\n",
    "os.mkdir(path)\n",
    "\n",
    "path"
   ]
  },
  {
   "cell_type": "code",
   "execution_count": 13,
   "metadata": {},
   "outputs": [
    {
     "name": "stdout",
     "output_type": "stream",
     "text": [
      "100% [................................................................................] 2783 / 2783"
     ]
    }
   ],
   "source": [
    "# Download images\n",
    "counter = 0\n",
    "for image in images:\n",
    "    save_as = os.path.join(path, keyword[1:] + str(counter) + '.jpg')\n",
    "    wget.download(image, save_as)\n",
    "    counter += 1"
   ]
  },
  {
   "cell_type": "code",
   "execution_count": null,
   "metadata": {},
   "outputs": [],
   "source": []
  }
 ],
 "metadata": {
  "kernelspec": {
   "display_name": "Python 3 (ipykernel)",
   "language": "python",
   "name": "python3"
  },
  "language_info": {
   "codemirror_mode": {
    "name": "ipython",
    "version": 3
   },
   "file_extension": ".py",
   "mimetype": "text/x-python",
   "name": "python",
   "nbconvert_exporter": "python",
   "pygments_lexer": "ipython3",
   "version": "3.9.7"
  }
 },
 "nbformat": 4,
 "nbformat_minor": 4
}
